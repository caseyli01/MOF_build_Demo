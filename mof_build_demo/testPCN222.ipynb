{
 "cells": [
  {
   "cell_type": "code",
   "execution_count": null,
   "metadata": {},
   "outputs": [],
   "source": [
    "from MOF_build import buildPCN222"
   ]
  },
  {
   "cell_type": "code",
   "execution_count": null,
   "metadata": {},
   "outputs": [],
   "source": [
    "x_num,y_num,z_num,x_scalar,y_scalar,z_scalar =10,3,3,19.5,19.5,19.5\n",
    "outnode, outlinker, outcut, outall = ( \"PCN222node\", \"PCN222linker\", \"PCN222cut\", \"PCN222all\")  # name of output file\n",
    "#O1_index, O2_index, O3_index, O4_index = 49,56,59,51\n",
    "#linker_pdb = '../linkers4demo/M2.pdb'\n",
    "O1_index, O2_index, O3_index, O4_index= 18,17,8,7\n",
    "linker_pdb = '../linkers4demo/m_h2tcpp.pdb'"
   ]
  },
  {
   "cell_type": "code",
   "execution_count": null,
   "metadata": {},
   "outputs": [],
   "source": [
    "mof = buildPCN222.PCN222tetra(\n",
    "    linker_pdb, O1_index, O2_index, O3_index,O4_index,\n",
    "    x_num, y_num, z_num,\n",
    "    x_scalar, y_scalar, z_scalar, \n",
    ")\n",
    "#mof.buildnoterm(outnode, outcut, outlinker, outall)\n",
    "#mof.view(outall)\n"
   ]
  },
  {
   "cell_type": "code",
   "execution_count": null,
   "metadata": {},
   "outputs": [],
   "source": [
    "mof.buildall(outnode, outcut, outlinker, outall)\n",
    "mof.view(outall)\n",
    "from MDprepare import move2C\n",
    "import py3Dmol as p3d\n",
    "#move2C.atoms2c(outall,1,1,1,25,15,22) "
   ]
  },
  {
   "cell_type": "code",
   "execution_count": null,
   "metadata": {},
   "outputs": [],
   "source": [
    "itp = '/Users/chenxili/GitHub/MOF_build_Demo/mof_build_demo/PCN222md/pcn222itp'\n",
    "mdp = '/Users/chenxili/GitHub/MOF_build_Demo/mof_build_demo/PCN222md/mdp'\n",
    "!gmx editconf -f PCN222all.gro -o newPCN222all.gro -c -box 26 15 22\n",
    "!gmx grompp -f $mdp/em.mdp   -c newPCN222all.gro   -p $itp/pcn222em_test.top  -o $itp/em.tpr -maxwarn 1\n",
    "#!gmx mdrun -s $itp/em.tpr -deffnm em_out -g $itp/em.log "
   ]
  },
  {
   "cell_type": "code",
   "execution_count": null,
   "metadata": {},
   "outputs": [],
   "source": [
    "!gmx mdrun -s $itp/em.tpr -deffnm em_out -g $itp/em.log "
   ]
  },
  {
   "cell_type": "code",
   "execution_count": null,
   "metadata": {},
   "outputs": [],
   "source": [
    "!gmx editconf -f PCN222all.gro -o c_newPCN222all.gro -c -box 26 15 22\n",
    "\n",
    "#!gmx solvate -cp c_newPCN222all.gro -cs /Users/chenxili/GitHub/MOF_build_Demo/mof_build_demo/PCN222md/pcn222itp/MeCN.gro -maxsol 80000 -o pcn222_mecn.gro -scale 0.01\n",
    "#!gmx insert-molecules -f pcn222_mecn.gro -ci /Users/chenxili/GitHub/MOF_build_Demo/mof_build_demo/PCN222md/pcn222itp/CO2.gro -nmol 50 -o pcn222em_co2.gro -scale 0.35"
   ]
  },
  {
   "cell_type": "code",
   "execution_count": null,
   "metadata": {},
   "outputs": [],
   "source": [
    "#itp = '../itp'\n",
    "#gmx_mpi insert-molecules -f newall.gro -ci ($itp)/tip3p.gro -nmol 90000 -o mof_sol.gro -scale 0.35\n",
    "itp = '/Users/chenxili/GitHub/MOF_build_Demo/mof_build_demo/PCN222md/pcn222itp'\n",
    "mdp = '/Users/chenxili/GitHub/MOF_build_Demo/mof_build_demo/PCN222md/mdp'\n",
    "!gmx grompp -f $mdp/em.mdp   -c c_newPCN222all.gro   -p $itp/pcn222em_test.top  -o $itp/em.tpr -maxwarn 1\n",
    "#!gmx mdrun -s $itp/em.tpr -deffnm em_out -g $itp/em.log "
   ]
  },
  {
   "cell_type": "code",
   "execution_count": null,
   "metadata": {},
   "outputs": [],
   "source": [
    "!gmx mdrun -s $itp/em.tpr -deffnm em_out -g $itp/em.log "
   ]
  }
 ],
 "metadata": {
  "kernelspec": {
   "display_name": "vlx",
   "language": "python",
   "name": "python3"
  },
  "language_info": {
   "codemirror_mode": {
    "name": "ipython",
    "version": 3
   },
   "file_extension": ".py",
   "mimetype": "text/x-python",
   "name": "python",
   "nbconvert_exporter": "python",
   "pygments_lexer": "ipython3",
   "version": "3.11.8"
  }
 },
 "nbformat": 4,
 "nbformat_minor": 2
}
