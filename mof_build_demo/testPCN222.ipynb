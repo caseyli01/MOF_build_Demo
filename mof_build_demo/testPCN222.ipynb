{
 "cells": [
  {
   "cell_type": "code",
   "execution_count": null,
   "metadata": {},
   "outputs": [],
   "source": [
    "from MOF_build import buildPCN222"
   ]
  },
  {
   "cell_type": "code",
   "execution_count": null,
   "metadata": {},
   "outputs": [],
   "source": [
    "x_num,y_num,z_num,x_scalar,y_scalar,z_scalar =10,3,3,22,22,22\n",
    "outnode, outlinker, outcut, outall = ( \"PCN222node\", \"PCN222linker\", \"PCN222cut\", \"PCN222all\")  # name of output file\n",
    "#O1_index, O2_index, O3_index, O4_index = 49,56,59,51\n",
    "#linker_pdb = '../linkers4demo/M2.pdb'\n",
    "O1_index, O2_index, O3_index, O4_index= 8,19,7,20\n",
    "linker_pdb = '../linkers4demo/planeh2tcpp.pdb'"
   ]
  },
  {
   "cell_type": "code",
   "execution_count": null,
   "metadata": {},
   "outputs": [],
   "source": [
    "mof = buildPCN222.PCN222tetra(\n",
    "    linker_pdb, O1_index, O2_index, O3_index,O4_index,\n",
    "    x_num, y_num, z_num,\n",
    "    x_scalar, y_scalar, z_scalar, \n",
    ")\n",
    "#mof.buildnoterm(outnode, outcut, outlinker, outall)\n",
    "#mof.view(outall)\n"
   ]
  },
  {
   "cell_type": "code",
   "execution_count": null,
   "metadata": {},
   "outputs": [],
   "source": [
    "mof.buildall(outnode, outcut, outlinker, outall)\n",
    "mof.view(outall)\n",
    "from MDprepare import move2C\n",
    "import py3Dmol as p3d\n",
    "move2C.atoms2c(outall,1,1,1,25,15,22) "
   ]
  },
  {
   "cell_type": "code",
   "execution_count": null,
   "metadata": {},
   "outputs": [],
   "source": [
    "!gmx editconf -f newPCN222all.gro -o c_newPCN222all.gro -c -box 26 15 22\n",
    "\n",
    "!gmx solvate -cp c_newPCN222all.gro -cs /Users/chenxili/GitHub/MOF_build_Demo/mof_build_demo/PCN222md/pcn222itp/MeCN.gro -maxsol 8000 -o pcn222_mecn.gro -scale 0.2\n",
    "!gmx insert-molecules -f pcn222_mecn.gro -ci /Users/chenxili/GitHub/MOF_build_Demo/mof_build_demo/PCN222md/pcn222itp/CO2.gro -nmol 50 -o pcn222em_co2.gro -scale 0.35"
   ]
  },
  {
   "cell_type": "code",
   "execution_count": 77,
   "metadata": {},
   "outputs": [
    {
     "name": "stdout",
     "output_type": "stream",
     "text": [
      "                 :-) GROMACS - gmx grompp, 2024.2-Homebrew (-:\n",
      "\n",
      "Executable:   /opt/homebrew/bin/../Cellar/gromacs/2024.2/bin/gmx\n",
      "Data prefix:  /opt/homebrew/bin/../Cellar/gromacs/2024.2\n",
      "Working dir:  /Users/chenxili/GitHub/MOF_build_Demo/mof_build_demo\n",
      "Command line:\n",
      "  gmx grompp -f /Users/chenxili/GitHub/MOF_build_Demo/mof_build_demo/PCN222md/mdp/em.mdp -c pcn222em_co2.gro -p /Users/chenxili/GitHub/MOF_build_Demo/mof_build_demo/PCN222md/pcn222itp/pcn222em.top -o /Users/chenxili/GitHub/MOF_build_Demo/mof_build_demo/PCN222md/pcn222itp/em.tpr -maxwarn 1\n",
      "\n",
      "Ignoring obsolete mdp entry 'ns_type'\n",
      "\n",
      "NOTE 1 [file /Users/chenxili/GitHub/MOF_build_Demo/mof_build_demo/PCN222md/mdp/em.mdp]:\n",
      "  With Verlet lists the optimal nstlist is >= 10, with GPUs >= 20. Note\n",
      "  that with the Verlet scheme, nstlist has no effect on the accuracy of\n",
      "  your simulation.\n",
      "\n",
      "Setting the LD random seed to -1535295877\n",
      "\n",
      "Generated 703 of the 703 non-bonded parameter combinations\n",
      "Generating 1-4 interactions: fudge = 0.5\n",
      "\n",
      "Generated 703 of the 703 1-4 parameter combinations\n",
      "\n",
      "Excluding 3 bonded neighbours molecule type 'ZRR'\n",
      "\n",
      "Excluding 3 bonded neighbours molecule type 'OMM'\n",
      "\n",
      "Excluding 3 bonded neighbours molecule type 'CUT'\n",
      "\n",
      "Excluding 3 bonded neighbours molecule type 'TCP'\n",
      "\n",
      "Excluding 3 bonded neighbours molecule type 'MCN'\n",
      "\n",
      "Excluding 3 bonded neighbours molecule type 'CO2'\n",
      "Analysing residue names:\n",
      "There are: 14416      Other residues\n",
      "Analysing residues not classified as Protein/DNA/RNA/Water and splitting into groups...\n",
      "Number of degrees of freedom in T-Coupling group rest is 366909.00\n",
      "The integrator does not provide a ensemble temperature, there is no system ensemble temperature\n",
      "\n",
      "The largest distance between excluded atoms is 0.384 nm between atom 61547 and 61570\n",
      "Calculating fourier grid dimensions for X Y Z\n",
      "Using a fourier grid of 224x128x192, spacing 0.116 0.117 0.115\n",
      "\n",
      "Estimate for the relative computational load of the PME mesh part: 0.68\n",
      "\n",
      "NOTE 2 [file /Users/chenxili/GitHub/MOF_build_Demo/mof_build_demo/PCN222md/mdp/em.mdp]:\n",
      "  The optimal PME mesh load for parallel simulations is below 0.5\n",
      "  and for highly parallel simulations between 0.25 and 0.33,\n",
      "  for higher performance, increase the cut-off and the PME grid spacing.\n",
      "\n",
      "\n",
      "\n",
      "This run will generate roughly 594 Mb of data\n",
      "\n",
      "There were 2 NOTEs\n",
      "\n",
      "Back Off! I just backed up /Users/chenxili/GitHub/MOF_build_Demo/mof_build_demo/PCN222md/pcn222itp/em.tpr to /Users/chenxili/GitHub/MOF_build_Demo/mof_build_demo/PCN222md/pcn222itp/#em.tpr.1#\n",
      "\n",
      "GROMACS reminds you: \"Take Your Medications and Preparations and Ram It Up Your Snout\" (F. Zappa)\n",
      "\n"
     ]
    }
   ],
   "source": [
    "#itp = '../itp'\n",
    "#gmx_mpi insert-molecules -f newall.gro -ci ($itp)/tip3p.gro -nmol 90000 -o mof_sol.gro -scale 0.35\n",
    "itp = '/Users/chenxili/GitHub/MOF_build_Demo/mof_build_demo/PCN222md/pcn222itp'\n",
    "mdp = '/Users/chenxili/GitHub/MOF_build_Demo/mof_build_demo/PCN222md/mdp'\n",
    "!gmx grompp -f $mdp/em.mdp   -c pcn222em_co2.gro   -p $itp/pcn222em.top  -o $itp/em.tpr -maxwarn 1\n",
    "#!gmx mdrun -s $itp/em.tpr -deffnm em_out -g $itp/em.log "
   ]
  },
  {
   "cell_type": "code",
   "execution_count": 78,
   "metadata": {},
   "outputs": [
    {
     "name": "stdout",
     "output_type": "stream",
     "text": [
      "                  :-) GROMACS - gmx mdrun, 2024.2-Homebrew (-:\n",
      "\n",
      "Executable:   /opt/homebrew/bin/../Cellar/gromacs/2024.2/bin/gmx\n",
      "Data prefix:  /opt/homebrew/bin/../Cellar/gromacs/2024.2\n",
      "Working dir:  /Users/chenxili/GitHub/MOF_build_Demo/mof_build_demo\n",
      "Command line:\n",
      "  gmx mdrun -s /Users/chenxili/GitHub/MOF_build_Demo/mof_build_demo/PCN222md/pcn222itp/em.tpr -deffnm em_out -g /Users/chenxili/GitHub/MOF_build_Demo/mof_build_demo/PCN222md/pcn222itp/em.log\n",
      "\n",
      "\n",
      "Back Off! I just backed up /Users/chenxili/GitHub/MOF_build_Demo/mof_build_demo/PCN222md/pcn222itp/em.log to /Users/chenxili/GitHub/MOF_build_Demo/mof_build_demo/PCN222md/pcn222itp/#em.log.1#\n",
      "Reading file /Users/chenxili/GitHub/MOF_build_Demo/mof_build_demo/PCN222md/pcn222itp/em.tpr, VERSION 2024.2-Homebrew (single precision)\n",
      "Using 1 MPI thread\n",
      "Using 8 OpenMP threads \n",
      "\n",
      "\n",
      "Back Off! I just backed up em_out.trr to ./#em_out.trr.1#\n",
      "\n",
      "Back Off! I just backed up em_out.edr to ./#em_out.edr.1#\n",
      "\n",
      "Steepest Descents:\n",
      "   Tolerance (Fmax)   =  1.00000e+03\n",
      "   Number of steps    =       100000\n",
      "^C\n"
     ]
    }
   ],
   "source": [
    "!gmx mdrun -s $itp/em.tpr -deffnm em_out -g $itp/em.log "
   ]
  }
 ],
 "metadata": {
  "kernelspec": {
   "display_name": "vlx",
   "language": "python",
   "name": "python3"
  },
  "language_info": {
   "codemirror_mode": {
    "name": "ipython",
    "version": 3
   },
   "file_extension": ".py",
   "mimetype": "text/x-python",
   "name": "python",
   "nbconvert_exporter": "python",
   "pygments_lexer": "ipython3",
   "version": "3.11.8"
  }
 },
 "nbformat": 4,
 "nbformat_minor": 2
}
