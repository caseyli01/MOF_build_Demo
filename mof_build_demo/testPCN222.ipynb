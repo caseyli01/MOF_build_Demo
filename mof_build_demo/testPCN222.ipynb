{
 "cells": [
  {
   "cell_type": "code",
   "execution_count": null,
   "metadata": {},
   "outputs": [],
   "source": [
    "from MOF_build import buildPCN222"
   ]
  },
  {
   "cell_type": "code",
   "execution_count": null,
   "metadata": {},
   "outputs": [],
   "source": [
    "x_num,y_num,z_num,x_scalar,y_scalar,z_scalar =1,1,1,18,18,18\n",
    "outnode, outlinker, outcut, outall = ( \"PCN222node\", \"PCN222linker\", \"PCN222cut\", \"PCN222all\")  # name of output file\n",
    "#O1_index, O2_index, O3_index, O4_index = 49,56,59,51\n",
    "#linker_pdb = '../linkers4demo/M2.pdb'\n",
    "O1_index, O2_index, O3_index, O4_index= 1,41,61,22\n",
    "linker_pdb = '../linkers4demo/PCN222_linker.pdb'"
   ]
  },
  {
   "cell_type": "code",
   "execution_count": null,
   "metadata": {},
   "outputs": [],
   "source": [
    "mof = buildPCN222.PCN222tetra(\n",
    "    linker_pdb, O1_index, O2_index, O3_index,O4_index,\n",
    "    x_num, y_num, z_num,\n",
    "    x_scalar, y_scalar, z_scalar, \n",
    ")\n",
    "mof.buildnoterm(outnode, outcut, outlinker, outall)\n",
    "mof.view(outall)\n"
   ]
  },
  {
   "cell_type": "code",
   "execution_count": null,
   "metadata": {},
   "outputs": [],
   "source": [
    "mof.buildall(outnode, outcut, outlinker, outall)\n",
    "mof.view(outall)"
   ]
  }
 ],
 "metadata": {
  "kernelspec": {
   "display_name": "vlx",
   "language": "python",
   "name": "python3"
  },
  "language_info": {
   "codemirror_mode": {
    "name": "ipython",
    "version": 3
   },
   "file_extension": ".py",
   "mimetype": "text/x-python",
   "name": "python",
   "nbconvert_exporter": "python",
   "pygments_lexer": "ipython3",
   "version": "3.11.6"
  }
 },
 "nbformat": 4,
 "nbformat_minor": 2
}
