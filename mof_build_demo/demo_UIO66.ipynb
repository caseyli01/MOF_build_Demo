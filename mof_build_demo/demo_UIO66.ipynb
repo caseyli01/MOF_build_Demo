{
 "cells": [
  {
   "cell_type": "code",
   "execution_count": null,
   "metadata": {},
   "outputs": [],
   "source": [
    "from MOF_build import buildUIO66\n",
    "from MDprepare import move2C\n",
    "from MDprepare import ff_gen as ff\n",
    "from MDprepare import itp_process as ip\n",
    "import numpy as np"
   ]
  },
  {
   "cell_type": "code",
   "execution_count": null,
   "metadata": {},
   "outputs": [],
   "source": [
    "'''\n",
    "#STEP1 Build a MOF model \n",
    "'''\n",
    "\n",
    "linker_pdb = \"../linkers4demo/66.pdb\"\n",
    "x_num, y_num, z_num, x_scalar, y_scalar, z_scalar = 1,1,1,14.5,14.5,14.5\n",
    "outnode, outlinker, outcut, outall = (\"66node\", \"66linker\", \"66cut\", \"66all\")  # name of output file\n",
    "O1_index, O2_index, O3_index = 9,11,10  ##NOTE:O1->O2//short edge O-O ,O1->O3//long edge O-O"
   ]
  },
  {
   "cell_type": "code",
   "execution_count": null,
   "metadata": {},
   "outputs": [],
   "source": [
    "mof = buildUIO66.UIO66(linker_pdb, O1_index, O2_index, O3_index, x_num, y_num, z_num,x_scalar, y_scalar, z_scalar )\n",
    "mof.buildall(outnode, outcut, outlinker,outall)\n",
    "mof.view(outall)\n",
    "#move atoms to box center and reset box size \n",
    "move2C.atoms2c('66all',0.9,1.6,0.9,5,3.5,4.3) "
   ]
  },
  {
   "cell_type": "code",
   "execution_count": null,
   "metadata": {},
   "outputs": [],
   "source": [
    "'''\n",
    "#STEP2 generate linker forcefield \n",
    "'''\n",
    "\n",
    "\n",
    "linkerpath='Residues'\n",
    "basis = 'sto-3g'\n",
    "charge = -2\n",
    "grofile_name,residue_name ='cph','UNK'\n",
    "ff.ff_gen(linkerpath,charge,basis,grofile_name,residue_name)\n"
   ]
  },
  {
   "cell_type": "code",
   "execution_count": null,
   "metadata": {},
   "outputs": [],
   "source": [
    "\"\"\"step3 generate topology file for MD simulation\"\"\"\n",
    "\n",
    "\n",
    "middlelines, sectorname = ip.parsetop(\"MDdemo/itp/template.top\")\n",
    "res_num = (\n",
    "    \"ZRR            48\\nOMM            32\\nOHH            32\\nCUT             60\\n\"\n",
    "    + \"UNK            18\\nSOL            1700\\nK            10\\nCAR            10\\n\"\n",
    ")\n",
    "ip.top_gen(\"itps/cph.itp\", middlelines, \"em.top\", res_num)"
   ]
  },
  {
   "cell_type": "code",
   "execution_count": null,
   "metadata": {},
   "outputs": [],
   "source": [
    "''' \n",
    "insert 1000 water molecules in the box before MD running\n",
    "'''\n",
    "a = 'MDdemo/mdfiles'\n",
    "mdp = 'MDdemo/mdp'\n",
    "!gmx insert-molecules -f new66all.gro -ci MDdemo/itp/tip3p.gro -nmol 1700 -o $a/mof_sol.gro -scale 0.4\n",
    "!gmx insert-molecules -f $a/mof_sol.gro -ci MDdemo/itp/K.gro -nmol 10 -o $a/mof_K.gro  -scale 0.4\n",
    "!gmx insert-molecules -f $a/mof_K.gro -ci MDdemo/itp/dicar.gro -nmol 10 -o $a/em.gro  -scale 0.4"
   ]
  },
  {
   "cell_type": "code",
   "execution_count": null,
   "metadata": {},
   "outputs": [],
   "source": [
    "''' run MD simulation ''' \n",
    "!gmx grompp -f $mdp/em.mdp   -c $a/em.gro    -p $a/em.top   -o $a/em.tpr -maxwarn 1 \n",
    "!gmx mdrun -s $a/em.tpr -deffnm $a/em_out -g $a/em.log\n",
    "#!gmx grompp -f $mdp/nvt.mdp -c $a/em_out.gro -p $a/em.top -o $a/nvt.tpr -maxwarn 1 \n",
    "#!gmx mdrun  -s $a/nvt.tpr  -deffnm $a/nvt_out -g $a/nvt.log\n",
    "#!gmx grompp  -f $mdp/npt.mdp -c $a/nvt_out.gro -p $a/em.top -o $a/npt.tpr -maxwarn 1 \n",
    "#!gmx mdrun  -s $a/npt.tpr  -deffnm $a/npt_out -g $a/npt.log\n",
    "#!gmx grompp -f $mdp/md.mdp -c $a/npt_out.gro  -p $a/em.top -o $a/md.tpr -maxwarn 1 \n",
    "#!gmx mdrun  -s $a/md.tpr  -deffnm $a/md_out -g $a/md.log"
   ]
  },
  {
   "cell_type": "code",
   "execution_count": null,
   "metadata": {},
   "outputs": [],
   "source": [
    "!gmx grompp -f $mdp/nvt.mdp -c $a/em_out.gro -p $a/em.top -o $a/nvt.tpr -maxwarn 1 \n",
    "!gmx mdrun  -s $a/nvt.tpr  -deffnm $a/nvt_out -g $a/nvt.log"
   ]
  },
  {
   "cell_type": "code",
   "execution_count": null,
   "metadata": {},
   "outputs": [],
   "source": [
    "!gmx grompp  -f $mdp/npt.mdp -c $a/nvt_out.gro -p $a/em.top -o $a/npt.tpr -maxwarn 1 \n",
    "!gmx mdrun  -s $a/npt.tpr  -deffnm $a/npt_out -g $a/npt.log"
   ]
  }
 ],
 "metadata": {
  "kernelspec": {
   "display_name": "vlx",
   "language": "python",
   "name": "python3"
  },
  "language_info": {
   "codemirror_mode": {
    "name": "ipython",
    "version": 3
   },
   "file_extension": ".py",
   "mimetype": "text/x-python",
   "name": "python",
   "nbconvert_exporter": "python",
   "pygments_lexer": "ipython3",
   "version": "3.11.8"
  }
 },
 "nbformat": 4,
 "nbformat_minor": 2
}
