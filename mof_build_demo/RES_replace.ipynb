{
 "cells": [
  {
   "cell_type": "code",
   "execution_count": 5,
   "metadata": {},
   "outputs": [
    {
     "name": "stdout",
     "output_type": "stream",
     "text": [
      "85 atoms in Agro file  \n",
      "88 atoms in Bgro file\n",
      "85 atoms in Agro file  \n",
      "88 atoms in Bgro file\n"
     ]
    }
   ],
   "source": [
    "from MOF_build.functions.replace_res import replace_res\n",
    "from MDprepare import move2C\n",
    "\n",
    "\n",
    "Agro = 'M2all.gro'\n",
    "Bgro = 'M4all.gro'\n",
    "#mof=replace_res(Agro,Bgro,1171,\"cornerTCC\")\n",
    "mof2=replace_res(Agro,Bgro,1085,\"centerTCC\")\n",
    "mof2.extract_resBtoA()\n",
    "\n",
    "move2C.atoms2c('centerTCC',2.5,3,3,9,14,14) \n",
    "\n",
    "mof=replace_res(Agro,Bgro,1171,\"cornerTCC\")\n",
    "mof.extract_resBtoA()\n",
    "move2C.atoms2c('cornerTCC',2.5,3,3,9,14,14) "
   ]
  }
 ],
 "metadata": {
  "kernelspec": {
   "display_name": "mof",
   "language": "python",
   "name": "python3"
  },
  "language_info": {
   "codemirror_mode": {
    "name": "ipython",
    "version": 3
   },
   "file_extension": ".py",
   "mimetype": "text/x-python",
   "name": "python",
   "nbconvert_exporter": "python",
   "pygments_lexer": "ipython3",
   "version": "3.11.8"
  }
 },
 "nbformat": 4,
 "nbformat_minor": 2
}
