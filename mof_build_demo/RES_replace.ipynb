{
 "cells": [
  {
   "cell_type": "code",
   "execution_count": 6,
   "metadata": {},
   "outputs": [
    {
     "name": "stdout",
     "output_type": "stream",
     "text": [
      "85 atoms in Agro file  \n",
      "88 atoms in Bgro file\n"
     ]
    }
   ],
   "source": [
    "from MOF_build.functions.replace_res import replace_res\n",
    "Agro = 'M2all.gro'\n",
    "Bgro = 'M4all.gro'\n",
    "#mof=replace_res(Agro,Bgro,1171,\"cornerTCC\")\n",
    "mof2=replace_res(Agro,Bgro,1085,\"centerTCC\")\n",
    "mof2.extract_resBtoA()\n",
    "\n"
   ]
  }
 ],
 "metadata": {
  "kernelspec": {
   "display_name": "mof",
   "language": "python",
   "name": "python3"
  },
  "language_info": {
   "codemirror_mode": {
    "name": "ipython",
    "version": 3
   },
   "file_extension": ".py",
   "mimetype": "text/x-python",
   "name": "python",
   "nbconvert_exporter": "python",
   "pygments_lexer": "ipython3",
   "version": "3.11.8"
  }
 },
 "nbformat": 4,
 "nbformat_minor": 2
}
