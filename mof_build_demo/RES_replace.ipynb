{
 "cells": [
  {
   "cell_type": "code",
   "execution_count": 32,
   "metadata": {},
   "outputs": [
    {
     "name": "stdout",
     "output_type": "stream",
     "text": [
      "7 atoms in Agro file  \n",
      "7 atoms in Bgro file\n"
     ]
    }
   ],
   "source": [
    "from MOF_build.functions.replace_res import replace_res\n",
    "Agro = 'all.gro'\n",
    "Bgro = 'newall.gro'\n",
    "mof=replace_res(Agro,Bgro,res_num=1)\n",
    "mof.extract_resBtoA()\n",
    "\n"
   ]
  }
 ],
 "metadata": {
  "kernelspec": {
   "display_name": "mof",
   "language": "python",
   "name": "python3"
  },
  "language_info": {
   "codemirror_mode": {
    "name": "ipython",
    "version": 3
   },
   "file_extension": ".py",
   "mimetype": "text/x-python",
   "name": "python",
   "nbconvert_exporter": "python",
   "pygments_lexer": "ipython3",
   "version": "3.11.8"
  }
 },
 "nbformat": 4,
 "nbformat_minor": 2
}
