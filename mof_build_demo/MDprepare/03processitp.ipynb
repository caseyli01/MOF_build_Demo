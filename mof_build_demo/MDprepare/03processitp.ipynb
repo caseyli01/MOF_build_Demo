{
 "cells": [
  {
   "cell_type": "code",
   "execution_count": 1,
   "metadata": {},
   "outputs": [],
   "source": [
    "import re\n",
    "import os\n",
    "import glob\n",
    "\n",
    "\n",
    "def parsetop(inputfile):\n",
    "    # newpath = os.path.abspath ( '')+'/'+str(outputfile)+'/'    # input file\n",
    "    # os.makedirs(newpath,exist_ok=True)\n",
    "    with open(inputfile, \"r\") as fp:\n",
    "        original_lines = fp.readlines()\n",
    "\n",
    "    lines = [line for line in original_lines if line.strip()]\n",
    "    number = []\n",
    "    includelines_number = []\n",
    "    lineNumber = 1\n",
    "    lineNumber_include = 1\n",
    "    keyword1 = \"]\"  # input('Keyword:')\n",
    "    for eachline in lines:  # search for keywords and get linenumber\n",
    "        m = re.search(keyword1, eachline)\n",
    "        if m is not None:\n",
    "            number.append(lineNumber - 1)  # split by linenumber\n",
    "        lineNumber += 1\n",
    "\n",
    "    keyword2 = \"#include\"  # input('Keyword:')\n",
    "    for eachline in lines:  # search for keywords and get linenumber\n",
    "        n = re.search(keyword2, eachline)\n",
    "        if n is not None:\n",
    "            includelines_number.append(lineNumber_include - 1)  # split by linenumber\n",
    "        lineNumber_include += 1\n",
    "    includelines_number.sort()\n",
    "    number.append(includelines_number[0])\n",
    "\n",
    "    number.append(len(lines))\n",
    "    number = list(set(number))\n",
    "    number.sort()\n",
    "    size = int(len(number))\n",
    "    # print(number)\n",
    "\n",
    "    middlelines = []\n",
    "    sectorname = []\n",
    "    for i in range(size - 1):\n",
    "        # set output range\n",
    "        start = number[i]\n",
    "        end = number[i + 1]\n",
    "        middlelines.append(lines[start:end])\n",
    "        sectorname.append(lines[start])\n",
    "\n",
    "        # fp_w = open(sectorname+'.txt','w')\n",
    "        # for key in middlelines:\n",
    "        #    fp_w.write(key)\n",
    "        # fp_w.close()\n",
    "    return middlelines, sectorname"
   ]
  },
  {
   "cell_type": "code",
   "execution_count": 2,
   "metadata": {},
   "outputs": [],
   "source": [
    "middlelines,sectorname=parsetop('template.top')\n"
   ]
  },
  {
   "cell_type": "code",
   "execution_count": null,
   "metadata": {},
   "outputs": [],
   "source": [
    "#grofile_name = \"TCPP_lacvpss\"\n",
    "#itp_files = glob.glob(\n",
    "#    os.path.join(\"**/\" + \"new\" + grofile_name + \"*.itp\"), recursive=True\n",
    "#)\n",
    "#subfolders = [os.path.dirname(itpfile) for itpfile in itp_files]\n",
    "#\n",
    "#subfolders, itp_files"
   ]
  },
  {
   "cell_type": "code",
   "execution_count": 18,
   "metadata": {},
   "outputs": [],
   "source": [
    "# fetch atomtype sector\n",
    "#for i in range(len(subfolders)):\n",
    "def top_gen(itp_file):\n",
    "    with open(itp_file, \"r\") as f:\n",
    "        lines = f.readlines()\n",
    "\n",
    "    keyword1 = \"atomtype\"\n",
    "    keyword2 = \"moleculetype\"\n",
    "    for eachline in lines:  # search for keywords and get linenumber\n",
    "        if re.search(keyword1, eachline):\n",
    "            start = lines.index(eachline) + 2\n",
    "        elif re.search(keyword2, eachline):\n",
    "            end = lines.index(eachline) - 1\n",
    "\n",
    "    target_lines = [line for line in lines[start:end] if line.strip()]\n",
    "\n",
    "    newstart = end + 1\n",
    "\n",
    "    with open(\"../itps/linker.itp\", \"w\") as fp:\n",
    "        fp.writelines(lines[newstart:])\n",
    "\n",
    "    target_lines.append(\"\\n\")\n",
    "    sec1 = target_lines\n",
    "    sec2 = [\n",
    "        '#include \"../itps/linker.itp\"'\n",
    "        + \"\\n\"\n",
    "        + '#include \"../itp/tip3p.itp\"'\n",
    "        #+ \"\\n\"\n",
    "        #+ '#include \"../itp/K.itp\"'\n",
    "        + \"\\n\"\n",
    "        + \"\\n\"\n",
    "    ]\n",
    "    sec3 = [\"MOF_UIO66\" + \"\\n\" + \"\\n\"]\n",
    "    sec4 = [\n",
    "\n",
    "        \"\\nZRR            48\\nOMM            32\\nOH            32\\nCUT             60\\n\"\n",
    "        + \"UNK            18\\nSOL            1000\\n\"\n",
    "        + \"\\n\"\n",
    "        + \"\\n\"\n",
    "    ]\n",
    "    newtop = (\n",
    "        middlelines[0]\n",
    "        + middlelines[1]\n",
    "        + sec1\n",
    "        + middlelines[2]\n",
    "        + sec2\n",
    "        + middlelines[3]\n",
    "        + sec3\n",
    "        + middlelines[4]\n",
    "        + sec4\n",
    "    )\n",
    "    with open(\"em.top\", \"w\") as f:\n",
    "        f.writelines(newtop)"
   ]
  },
  {
   "cell_type": "code",
   "execution_count": 19,
   "metadata": {},
   "outputs": [],
   "source": [
    "top_gen('../itps/cph.itp')"
   ]
  },
  {
   "cell_type": "code",
   "execution_count": null,
   "metadata": {},
   "outputs": [],
   "source": [
    "#grofile_name = 'TCPP_lacvpss' \n",
    "#for itpfolder in subfolders:\n",
    "#    ss_files = glob.glob(os.path.join(itpfolder+'/*ss.*'), recursive=True)\n",
    "#    file_names = [os.path.basename(file) for file in ss_files]\n",
    "#    file_names.append(\"all.xyz\")\n",
    "#    file_names.append(\"all.gro\")\n",
    "#    os.makedirs(itpfolder+'/otherfiles',exist_ok=True)\n",
    "#    for eachfile in file_names:\n",
    "#        os.rename(itpfolder+'/'+eachfile,itpfolder+'/otherfiles/'+eachfile)\n"
   ]
  },
  {
   "cell_type": "code",
   "execution_count": null,
   "metadata": {},
   "outputs": [],
   "source": [
    "#neutral -4TCP\n",
    "for index in neu_box[2:3]:\n",
    "    a = subfolders[index]\n",
    "    top_gen(itp_files,subfolders,index,0)\n",
    "    !gmx insert-molecules -f $a/newall.gro -ci itp/tip3p.gro -nmol 3400 -o $a/em.gro   \n",
    "    #!gmx insert-molecules -f $a/mof_sol.gro -ci itp/K.gro -nmol 10 -o $a/mof_sol_K.gro  \n",
    "    !gmx grompp -f mdp/em.mdp   -c $a/em.gro    -p $a/em.top   -o $a/em.tpr -maxwarn 1 "
   ]
  },
  {
   "cell_type": "code",
   "execution_count": null,
   "metadata": {},
   "outputs": [],
   "source": []
  },
  {
   "cell_type": "code",
   "execution_count": null,
   "metadata": {},
   "outputs": [],
   "source": [
    "#neg-1 -5TCP\n",
    "for index in n1_box:\n",
    "    a = subfolders[index]\n",
    "    top_gen(itp_files,subfolders,index,10)\n",
    "    !gmx insert-molecules -f $a/newall.gro -ci itp/tip3p.gro -nmol 3400 -o $a/mof_sol.gro   \n",
    "    !gmx insert-molecules -f $a/mof_sol.gro -ci itp/K.gro -nmol 10 -o $a/em.gro  \n",
    "    !gmx grompp -f mdp/em.mdp   -c $a/em.gro    -p $a/em.top   -o $a/em.tpr -maxwarn 1 "
   ]
  },
  {
   "cell_type": "code",
   "execution_count": null,
   "metadata": {},
   "outputs": [],
   "source": [
    "#neg-2 -6TCP\n",
    "for index in n2_box:\n",
    "    a = subfolders[index]\n",
    "    top_gen(itp_files,subfolders,index,20)\n",
    "    !gmx insert-molecules -f $a/newall.gro -ci itp/tip3p.gro -nmol 3400 -o $a/mof_sol.gro   \n",
    "    !gmx insert-molecules -f $a/mof_sol.gro -ci itp/K.gro -nmol 20 -o $a/em.gro  \n",
    "    !gmx grompp -f mdp/em.mdp   -c $a/em.gro    -p $a/em.top   -o $a/em.tpr -maxwarn 1 "
   ]
  }
 ],
 "metadata": {
  "kernelspec": {
   "display_name": "mof",
   "language": "python",
   "name": "python3"
  },
  "language_info": {
   "codemirror_mode": {
    "name": "ipython",
    "version": 3
   },
   "file_extension": ".py",
   "mimetype": "text/x-python",
   "name": "python",
   "nbconvert_exporter": "python",
   "pygments_lexer": "ipython3",
   "version": "3.11.8"
  }
 },
 "nbformat": 4,
 "nbformat_minor": 2
}
