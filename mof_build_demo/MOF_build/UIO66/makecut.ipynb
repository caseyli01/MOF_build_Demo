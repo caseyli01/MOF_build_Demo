{
 "cells": [
  {
   "cell_type": "code",
   "execution_count": 136,
   "metadata": {},
   "outputs": [],
   "source": [
    "from MOF_build.functions.read import read\n",
    "from MOF_build.functions.normv import normalize_vector\n",
    "from MOF_build.functions.rotate import rotate\n",
    "import pandas as pd"
   ]
  },
  {
   "cell_type": "code",
   "execution_count": 137,
   "metadata": {},
   "outputs": [],
   "source": [
    "#methyl=read.pdb('/Users/chenxili/GitHub/MOF_build/UIO66_OLD/methyl.pdb')\n",
    "terms=read.pdb('/Users/chenxili/GitHub/MOF_build/DEMO/mof_build_demo/MOF_build/lib/UIO66_lib_cut.lib')"
   ]
  },
  {
   "cell_type": "code",
   "execution_count": 138,
   "metadata": {},
   "outputs": [],
   "source": [
    "def get_new_cut(cut):\n",
    "    C1 = cut.loc[2, [\"x\", \"y\", \"z\"]].to_numpy()\n",
    "    CC = normalize_vector(C1) \n",
    "    methyl=read.pdb('/Users/chenxili/GitHub/MOF_build/UIO66_OLD/methyl.pdb')\n",
    "    methylH1=methyl.loc[1, [\"x\", \"y\", \"z\"]].to_numpy()\n",
    "    methylH2=methyl.loc[2, [\"x\", \"y\", \"z\"]].to_numpy()\n",
    "    methylH3=methyl.loc[3, [\"x\", \"y\", \"z\"]].to_numpy()\n",
    "    methylCH = (methylH1+methylH2+methylH3)/3 #methyl C is 0 0 0 \n",
    "    p1 = methylCH\n",
    "    p2 = C1\n",
    "    methyl_arr = methyl.loc[:, [\"x\", \"y\", \"z\"]].to_numpy()\n",
    "\n",
    "    q=rotate.calculate_q_rotation_with_vectors(p1,p2)\n",
    "\n",
    "    new_methyl=rotate.get_rotated_array(methyl_arr,q)+1.5*CC+C1\n",
    "    df_carbo = cut.iloc[0:3,:]\n",
    "\n",
    "    methyl.loc[:, [\"x\", \"y\", \"z\"]] = new_methyl\n",
    "    df_newcut = pd.concat([df_carbo,methyl],ignore_index=True,join='outer')\n",
    "    return df_newcut"
   ]
  },
  {
   "cell_type": "code",
   "execution_count": 139,
   "metadata": {},
   "outputs": [],
   "source": [
    "\n",
    "for i in range(1):\n",
    "    start = 3*i\n",
    "    cut=terms[start:start+3].reset_index(drop=True)\n",
    "    init=get_new_cut(cut)\n",
    "df_cut = init\n",
    "for i in range(1,12):\n",
    "    start = 3*i\n",
    "    cut=terms[start:start+3].reset_index(drop=True)\n",
    "    df_cut=pd.concat([df_cut,get_new_cut(cut)],join='outer',ignore_index=True)\n"
   ]
  },
  {
   "cell_type": "code",
   "execution_count": 140,
   "metadata": {},
   "outputs": [
    {
     "data": {
      "text/plain": [
       "<MOF_build.functions.output.output at 0x1708a3a10>"
      ]
     },
     "execution_count": 140,
     "metadata": {},
     "output_type": "execute_result"
    }
   ],
   "source": [
    "from MOF_build.functions.output import output\n",
    "df_left = df_cut[[\"Atom_label\", \"Residue\", \"Res_number\", \"Note\"]]\n",
    "df_right = df_cut[[\"x\",\"y\",\"z\"]]\n",
    "df = pd.concat([df_left, df_right], axis=1, join=\"outer\")\n",
    "df.to_csv(\"newlibcut.txt\", header=None, sep=\"\\t\", index=False)\n",
    "output('newlibcut',True,True,True)"
   ]
  }
 ],
 "metadata": {
  "kernelspec": {
   "display_name": "vlx",
   "language": "python",
   "name": "python3"
  },
  "language_info": {
   "codemirror_mode": {
    "name": "ipython",
    "version": 3
   },
   "file_extension": ".py",
   "mimetype": "text/x-python",
   "name": "python",
   "nbconvert_exporter": "python",
   "pygments_lexer": "ipython3",
   "version": "3.11.8"
  }
 },
 "nbformat": 4,
 "nbformat_minor": 2
}
