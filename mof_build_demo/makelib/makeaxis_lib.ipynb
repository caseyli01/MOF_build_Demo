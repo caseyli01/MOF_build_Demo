{
 "cells": [
  {
   "cell_type": "code",
   "execution_count": null,
   "metadata": {},
   "outputs": [],
   "source": [
    "import numpy as np\n",
    "import pandas as pd\n",
    "import sys\n",
    "sys.path.append(\"..\")\n",
    "from MOF_build.functions.rotate import rotate\n",
    "from MOF_build.functions.read import read\n",
    "from MOF_build.functions.preprocess import pre_process\n",
    "'''make axis lib file'''\n",
    "\n",
    "any_tdx, any_tdy, any_tdz = (\n",
    "np.array([1, 0, 0]),\n",
    "np.array([0, 1, 0]),\n",
    "np.array([0, 1, 2]))\n",
    "dx, dy, dz = np.array([1, 0, 0]), np.array([0, 1, 0]), np.array([0, 0, 1])\n",
    "carte_basis = np.vstack([dx, dy, dz])\n",
    "    # for uio66 fcb\n",
    "tric_basis = rotate.coordinate_transfer(any_tdx, any_tdy, any_tdz, carte_basis)\n",
    "\n",
    "#template_pdb = 'TEMPL.pdb'\n",
    "node_pdb='../MOF_build/lib/PCN222_lib_nodeZr copy.pdb'\n",
    "template_pdb = read.pdb(node_pdb)\n",
    "node_pdb = read.pdb(node_pdb)\n",
    "#pAl1_1,pAl1_2,pAl1_3 are 3 dummy points around pAl1. \n",
    "pAl1,pAl2,pAl3,pAl4 = (template_pdb.loc[25, ['x','y','z']].to_numpy(),\n",
    "                template_pdb.loc[34, ['x','y','z']].to_numpy(),\n",
    "                template_pdb.loc[43, ['x','y','z']].to_numpy(),\n",
    "                template_pdb.loc[61, ['x','y','z']].to_numpy(),\n",
    "                )    \n",
    "print(pAl2-pAl1,pAl1)\n",
    "pAl1_1,pAl1_2,pAl1_3 =(node_pdb.loc[26, ['x','y','z']].to_numpy(),\n",
    "                        node_pdb.loc[27, ['x','y','z']].to_numpy(),\n",
    "                        node_pdb.loc[28, ['x','y','z']].to_numpy()) \n",
    "solution_1_2,arr_1_2 = pre_process.find_solution(pAl1,pAl1_1,pAl1_2,pAl1_3,pAl2-pAl1) #basis vector1\n",
    "solution_1_3,arr_1_3 = pre_process.find_solution(pAl1,pAl1_1,pAl1_2,pAl1_3,pAl4-pAl3) #basis vector2\n"
   ]
  },
  {
   "cell_type": "code",
   "execution_count": null,
   "metadata": {},
   "outputs": [],
   "source": [
    "#pAl1_1,pAl1_2,pAl1_3 are 3 dummy points around pAl1.\n",
    "template_pdb = 'TEMPL.pdb'\n",
    "node_pdb='lib1.pdb'\n",
    "template_pdb = read.pdb(template_pdb)\n",
    "node_pdb = read.pdb(node_pdb)\n",
    "pAl1,pAl2,pAl3 = (template_pdb.loc[0, ['x','y','z']].to_numpy(),\n",
    "                template_pdb.loc[1, ['x','y','z']].to_numpy(),\n",
    "                template_pdb.loc[2, ['x','y','z']].to_numpy())    \n",
    "pAl1_1,pAl1_2,pAl1_3 =(node_pdb.loc[0, ['x','y','z']].to_numpy(),\n",
    "                        node_pdb.loc[36, ['x','y','z']].to_numpy(),\n",
    "                        node_pdb.loc[45, ['x','y','z']].to_numpy()) \n",
    "solution_1_2,arr_1_2 = pre_process.find_solution(pAl1,pAl2,pAl1_1,pAl1_2,pAl1_3) #basis vector1\n",
    "solution_1_3,arr_1_3 = pre_process.find_solution(pAl1,pAl3,pAl1_1,pAl1_2,pAl1_3) #basis vector2"
   ]
  },
  {
   "cell_type": "code",
   "execution_count": null,
   "metadata": {},
   "outputs": [],
   "source": [
    "with open('lib.lib','w') as f:\n",
    "    for i in [solution_1_2,arr_1_2,solution_1_3,arr_1_3]:\n",
    "        f.write(' '.join(map(str, i.ravel().tolist()))+'\\n')"
   ]
  }
 ],
 "metadata": {
  "kernelspec": {
   "display_name": "vlx",
   "language": "python",
   "name": "python3"
  },
  "language_info": {
   "codemirror_mode": {
    "name": "ipython",
    "version": 3
   },
   "file_extension": ".py",
   "mimetype": "text/x-python",
   "name": "python",
   "nbconvert_exporter": "python",
   "pygments_lexer": "ipython3",
   "version": "3.11.6"
  }
 },
 "nbformat": 4,
 "nbformat_minor": 2
}
