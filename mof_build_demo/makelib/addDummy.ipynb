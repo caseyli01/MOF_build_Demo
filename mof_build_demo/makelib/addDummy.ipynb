{
 "cells": [
  {
   "cell_type": "code",
   "execution_count": 3,
   "metadata": {},
   "outputs": [],
   "source": [
    "import sys\n",
    "sys.path.append(\"..\")\n",
    "import numpy as np\n",
    "import pandas as pd\n",
    "import quaternion\n",
    "import re\n",
    "import datetime\n",
    "import os\n",
    "import glob\n",
    "from MOF_build.functions.rotate import rotate\n",
    "from MOF_build.functions.read import read\n",
    "from MOF_build.functions.output import output"
   ]
  },
  {
   "cell_type": "code",
   "execution_count": 5,
   "metadata": {},
   "outputs": [],
   "source": [
    "'''translate and rotate node to beginning point'''\n",
    "\n",
    "#node = read.pdb('PCN222_lib_nodeZr.pdb')\n",
    "node = read.pdb('node_lib.pdb')\n",
    "#print(node.iloc[30,:],node.iloc[57,:])\n",
    "array = node.loc[:, ['x','y','z']].to_numpy()\n",
    "center = 0.5*(array[47]+array[46]) #center point (beginning point)\n",
    "new_node = array-center\n",
    "\n",
    "any_tdx, any_tdy, any_tdz = (\n",
    "np.array([1, 0, 0]),\n",
    "np.array([0, 1, 0]),\n",
    "np.array([0, 1, 2]))\n",
    "dx, dy, dz = np.array([1, 0, 0]), np.array([0, 1, 0]), np.array([0, 0, 1])\n",
    "carte_basis = np.vstack([dx, dy, dz])\n",
    "    # for uio66 fcb\n",
    "tric_basis = rotate.coordinate_transfer(any_tdx, any_tdy, any_tdz, carte_basis)\n",
    "#v1_file = new_node[9]-new_node[0]\n",
    "#v2_file = new_node[27]-new_node[18]\n",
    "v1_file = new_node[47]-new_node[46]\n",
    "v2_file = new_node[40]-new_node[43]\n",
    "v1_frame = tric_basis[2]-tric_basis[1]\n",
    "v2_frame = tric_basis[2]+tric_basis[1]\n",
    "rotated_node = rotate.rotate_twice_linker(node,center,v1_file,v1_frame,v2_file,v2_frame)\n",
    "\n",
    "\n",
    "node.loc[:, ['x','y','z']] = rotated_node\n",
    "newdf = pd.concat([node.iloc[:,0:3],node.iloc[:,6],node.iloc[:,3:6]],axis=1, join = 'outer') #move ['NOTE'] to column3\n",
    "newdf.to_csv('PCNZRRnodeOO.txt',header=None,sep='\\t',index=False)\n",
    "output('PCNZRRnodeOO',True,False,False)"
   ]
  },
  {
   "cell_type": "code",
   "execution_count": 12,
   "metadata": {},
   "outputs": [
    {
     "data": {
      "text/plain": [
       "<MOF_build.functions.output.output at 0x2589bab2d50>"
      ]
     },
     "execution_count": 12,
     "metadata": {},
     "output_type": "execute_result"
    }
   ],
   "source": [
    "#reset resnumber  \n",
    "justnode = read.pdb('PCNZRRnodeOO.pdb') #ZRRnode.pdb\n",
    "justnode.iloc[:,2]=1 #set resnumber as 1\n",
    "#print(justnode)\n",
    "df = pd.concat([justnode.iloc[:,0:3],justnode.iloc[:,6],justnode.iloc[:,3:6]],axis=1, join = 'outer')\n",
    "df.to_csv('lib_ZRnode.txt',header=None,sep='\\t',index=False)\n",
    "output('lib_ZRnode',True,False,False)\n"
   ]
  },
  {
   "cell_type": "code",
   "execution_count": 13,
   "metadata": {},
   "outputs": [
    {
     "name": "stdout",
     "output_type": "stream",
     "text": [
      "[0.265 -1.303 -2.108] \n",
      "\n",
      "[2.477 0.142 0.23] \n",
      "\n",
      "[-2.477 -0.142 -0.23] \n",
      "\n",
      "[-0.265 1.303 2.108] \n",
      "\n",
      "[-0.0 2.091 -1.293] \n",
      "\n",
      "[-0.0 -2.091 1.293] \n",
      "\n"
     ]
    }
   ],
   "source": [
    "'''add dummy atom to Zr node'''\n",
    "pre_dummy_pdb = read.pdb('PCNZRRnodeOO.pdb')\n",
    "\n",
    "atom_type = []\n",
    "for i in pre_dummy_pdb['Atom_label']:\n",
    "    atom_type.append(re.sub(r\"\\d\", \"\", i))\n",
    "pre_dummy_pdb.insert(7, \"atom_type\", atom_type, True)\n",
    "\n",
    "df_Zr =pre_dummy_pdb[pre_dummy_pdb['atom_type']=='Zr'].reset_index()\n",
    "df_O =pre_dummy_pdb[pre_dummy_pdb['atom_type']=='O'].reset_index()\n",
    "O_positions = df_O.loc[:, ['x','y','z']].to_numpy()\n",
    "df_dummy = read.pdb(\"dummy_template.pdb\")\n",
    "for i in range(df_Zr.shape[0]):\n",
    "    distance_O = []\n",
    "    distance_Osort = []\n",
    "    pointZR = df_Zr.loc[i, ['x','y','z']].to_numpy()\n",
    "    for j in range(len(O_positions)):\n",
    "        distance_O.append(np.linalg.norm(pointZR-O_positions[j]) )\n",
    "        distance_Osort.append(np.linalg.norm(pointZR-O_positions[j]) )\n",
    "    distance_Osort.sort()\n",
    "    threshhold = distance_Osort[8]\n",
    "    indices = [index for index, num in enumerate(distance_O) if num < threshhold]\n",
    "    #print(indices,distance_O)\n",
    "    dummy_atoms = np.zeros((8,3))\n",
    "    row =0\n",
    "    for k in indices:\n",
    "        newD = pointZR+(O_positions[k]-pointZR)/np.linalg.norm(pointZR-O_positions[i])\n",
    "        dummy_atoms[row,:]=newD\n",
    "        row +=1\n",
    "    print(pointZR,'\\n')\n",
    "    dummy_atoms=np.round(dummy_atoms,3)\n",
    "    df_dummy.loc[0, ['x','y','z']]=pointZR\n",
    "    df_dummy.loc[1:, ['x', 'y', 'z']] = dummy_atoms\n",
    "    if i <1:\n",
    "        df_add_dummy = pd.concat([read.pdb('PCNZRRnodeOO.pdb'),df_dummy],ignore_index=True)\n",
    "    else:\n",
    "        df_add_dummy = pd.concat([df_add_dummy,df_dummy],ignore_index=True)\n",
    "\n",
    "#output('0adddummy',True,False,False)\n"
   ]
  },
  {
   "cell_type": "code",
   "execution_count": 14,
   "metadata": {},
   "outputs": [
    {
     "data": {
      "text/plain": [
       "<MOF_build.functions.output.output at 0x2589c1f10d0>"
      ]
     },
     "execution_count": 14,
     "metadata": {},
     "output_type": "execute_result"
    }
   ],
   "source": [
    "\n",
    "df_add_dummy.insert(3, \"note\", df_add_dummy['Note'], True)\n",
    "df_add_dummy.to_csv('0adddummy.txt',header=None,sep='\\t',index=False)\n",
    "#\n",
    "output('0adddummy',True,False,False)"
   ]
  }
 ],
 "metadata": {
  "kernelspec": {
   "display_name": "vlx",
   "language": "python",
   "name": "python3"
  },
  "language_info": {
   "codemirror_mode": {
    "name": "ipython",
    "version": 3
   },
   "file_extension": ".py",
   "mimetype": "text/x-python",
   "name": "python",
   "nbconvert_exporter": "python",
   "pygments_lexer": "ipython3",
   "version": "3.11.6"
  }
 },
 "nbformat": 4,
 "nbformat_minor": 2
}
