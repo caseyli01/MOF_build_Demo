{
 "cells": [
  {
   "cell_type": "code",
   "execution_count": null,
   "metadata": {},
   "outputs": [],
   "source": [
    "import numpy as np\n",
    "import pandas as pd\n",
    "import sys\n",
    "sys.path.append(\"..\")\n",
    "from MOF_build.functions.rotate import rotate\n",
    "from MOF_build.functions.read import read\n",
    "from MOF_build.functions.output import output\n",
    "from MOF_build.functions.normv import normalize_vector"
   ]
  },
  {
   "cell_type": "code",
   "execution_count": null,
   "metadata": {},
   "outputs": [],
   "source": [
    "pdb = read.pdb('CCCCCUT_copy.pdb')\n",
    "arr = pdb.loc[:,['x','y','z']].to_numpy()\n",
    "\n",
    "beginning_point = 0.5*(arr[2,:]+arr[3,:])\n",
    "v1_file = normalize_vector(0.5*arr[0,:]+0.5*arr[4,:]-beginning_point)\n",
    "v1_frame = normalize_vector(np.array([1,0,0]))\n",
    "v2_file = normalize_vector(0.5*arr[2,:]+0.5*arr[4,:]-beginning_point)\n",
    "v2_frame = np.array([ 0.5    , -0.5    ,  0.70711])\n",
    "\n",
    "new = rotate.rotate_twice_linker(pdb,beginning_point,v1_file,v1_frame,v2_file,v2_frame)\n",
    "#new = new-0.5*(new[0,:]+new[2,:])\n",
    "\n"
   ]
  },
  {
   "cell_type": "code",
   "execution_count": null,
   "metadata": {},
   "outputs": [],
   "source": [
    "pdb[['x','y','z']]=new\n",
    "df = pd.concat([pdb.iloc[:,0:3],pdb.iloc[:,6],pdb.iloc[:,3:6]],axis=1, join = 'outer')\n",
    "df.to_csv('lib_cut.txt',header=None,sep='\\t',index=False)\n",
    "output('lib_cut',True,False,False)\n",
    "\n"
   ]
  }
 ],
 "metadata": {
  "kernelspec": {
   "display_name": "vlx",
   "language": "python",
   "name": "python3"
  },
  "language_info": {
   "codemirror_mode": {
    "name": "ipython",
    "version": 3
   },
   "file_extension": ".py",
   "mimetype": "text/x-python",
   "name": "python",
   "nbconvert_exporter": "python",
   "pygments_lexer": "ipython3",
   "version": "3.11.6"
  }
 },
 "nbformat": 4,
 "nbformat_minor": 2
}
