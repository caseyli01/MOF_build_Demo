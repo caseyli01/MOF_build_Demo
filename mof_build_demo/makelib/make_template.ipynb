{
 "cells": [
  {
   "cell_type": "code",
   "execution_count": 14,
   "metadata": {},
   "outputs": [
    {
     "name": "stdout",
     "output_type": "stream",
     "text": [
      "[-4.954 -0.284 -0.46] [2.477 0.142 0.23]\n"
     ]
    }
   ],
   "source": [
    "import numpy as np\n",
    "import pandas as pd\n",
    "import sys\n",
    "sys.path.append(\"..\")\n",
    "from MOF_build.functions.rotate import rotate\n",
    "from MOF_build.functions.read import read\n",
    "from MOF_build.functions.preprocess import pre_process\n",
    "'''make axis lib file'''\n",
    "\n",
    "\n",
    "any_tdx, any_tdy, any_tdz = (\n",
    "np.array([1, 0, 0]),\n",
    "np.array([0, 1, 0]),\n",
    "np.array([0, 1, 2]))\n",
    "dx, dy, dz = np.array([1, 0, 0]), np.array([0, 1, 0]), np.array([0, 0, 1])\n",
    "carte_basis = np.vstack([dx, dy, dz])\n",
    "    # for uio66 fcb\n",
    "tric_basis = rotate.coordinate_transfer(any_tdx, any_tdy, any_tdz, carte_basis)\n",
    "\n",
    "#template_pdb = 'TEMPL.pdb'\n",
    "node_pdb='../MOF_build/lib/PCN222_lib_nodeZr copy.pdb'\n",
    "template_pdb = read.pdb(node_pdb)\n",
    "node_pdb = read.pdb(node_pdb)\n",
    "#pAl1_1,pAl1_2,pAl1_3 are 3 dummy points around pAl1. \n",
    "pAl1,pAl2,pAl3,pAl4 = (template_pdb.loc[25, ['x','y','z']].to_numpy(),\n",
    "                template_pdb.loc[34, ['x','y','z']].to_numpy(),\n",
    "                template_pdb.loc[43, ['x','y','z']].to_numpy(),\n",
    "                template_pdb.loc[61, ['x','y','z']].to_numpy(),\n",
    "                )    \n",
    "print(pAl2-pAl1,pAl1)\n",
    "pAl1_1,pAl1_2,pAl1_3 =(node_pdb.loc[26, ['x','y','z']].to_numpy(),\n",
    "                        node_pdb.loc[27, ['x','y','z']].to_numpy(),\n",
    "                        node_pdb.loc[28, ['x','y','z']].to_numpy()) \n",
    "solution_1_2,arr_1_2 = pre_process.find_solution(pAl1,pAl1_1,pAl1_2,pAl1_3,pAl2-pAl1) #basis vector1\n",
    "solution_1_3,arr_1_3 = pre_process.find_solution(pAl1,pAl1_1,pAl1_2,pAl1_3,pAl4-pAl3) #basis vector2\n"
   ]
  },
  {
   "cell_type": "code",
   "execution_count": 15,
   "metadata": {},
   "outputs": [
    {
     "name": "stdout",
     "output_type": "stream",
     "text": [
      "   Atom_label Residue  Res_number      x      y      z Note\n",
      "16         Zr     ZRR           1  0.265 -1.303 -2.108   Zr\n",
      "25         Zr     ZRR           1  2.477  0.142  0.230   Zr\n",
      "34         Zr     ZRR           1 -2.477 -0.142 -0.230   Zr\n",
      "43         Zr     ZRR           1 -0.265  1.303  2.108   Zr\n",
      "52         Zr     ZRR           1 -0.000  2.091 -1.293   Zr\n",
      "61         Zr     ZRR           1 -0.000 -2.091  1.293   Zr\n"
     ]
    }
   ],
   "source": [
    "print(node_pdb[node_pdb['Note']=='Zr'])"
   ]
  },
  {
   "cell_type": "code",
   "execution_count": 5,
   "metadata": {},
   "outputs": [
    {
     "ename": "FileNotFoundError",
     "evalue": "[Errno 2] No such file or directory: 'TEMPL.pdb'",
     "output_type": "error",
     "traceback": [
      "\u001b[1;31m---------------------------------------------------------------------------\u001b[0m",
      "\u001b[1;31mFileNotFoundError\u001b[0m                         Traceback (most recent call last)",
      "Cell \u001b[1;32mIn[5], line 3\u001b[0m\n\u001b[0;32m      1\u001b[0m template_pdb \u001b[38;5;241m=\u001b[39m \u001b[38;5;124m'\u001b[39m\u001b[38;5;124mTEMPL.pdb\u001b[39m\u001b[38;5;124m'\u001b[39m\n\u001b[0;32m      2\u001b[0m node_pdb\u001b[38;5;241m=\u001b[39m\u001b[38;5;124m'\u001b[39m\u001b[38;5;124mlib1.pdb\u001b[39m\u001b[38;5;124m'\u001b[39m\n\u001b[1;32m----> 3\u001b[0m template_pdb \u001b[38;5;241m=\u001b[39m \u001b[43mread\u001b[49m\u001b[38;5;241;43m.\u001b[39;49m\u001b[43mpdb\u001b[49m\u001b[43m(\u001b[49m\u001b[43mtemplate_pdb\u001b[49m\u001b[43m)\u001b[49m\n\u001b[0;32m      4\u001b[0m node_pdb \u001b[38;5;241m=\u001b[39m read\u001b[38;5;241m.\u001b[39mpdb(node_pdb)\n\u001b[0;32m      5\u001b[0m pAl1,pAl2,pAl3 \u001b[38;5;241m=\u001b[39m (template_pdb\u001b[38;5;241m.\u001b[39mloc[\u001b[38;5;241m0\u001b[39m, [\u001b[38;5;124m'\u001b[39m\u001b[38;5;124mx\u001b[39m\u001b[38;5;124m'\u001b[39m,\u001b[38;5;124m'\u001b[39m\u001b[38;5;124my\u001b[39m\u001b[38;5;124m'\u001b[39m,\u001b[38;5;124m'\u001b[39m\u001b[38;5;124mz\u001b[39m\u001b[38;5;124m'\u001b[39m]]\u001b[38;5;241m.\u001b[39mto_numpy(),\n\u001b[0;32m      6\u001b[0m                 template_pdb\u001b[38;5;241m.\u001b[39mloc[\u001b[38;5;241m1\u001b[39m, [\u001b[38;5;124m'\u001b[39m\u001b[38;5;124mx\u001b[39m\u001b[38;5;124m'\u001b[39m,\u001b[38;5;124m'\u001b[39m\u001b[38;5;124my\u001b[39m\u001b[38;5;124m'\u001b[39m,\u001b[38;5;124m'\u001b[39m\u001b[38;5;124mz\u001b[39m\u001b[38;5;124m'\u001b[39m]]\u001b[38;5;241m.\u001b[39mto_numpy(),\n\u001b[0;32m      7\u001b[0m                 template_pdb\u001b[38;5;241m.\u001b[39mloc[\u001b[38;5;241m2\u001b[39m, [\u001b[38;5;124m'\u001b[39m\u001b[38;5;124mx\u001b[39m\u001b[38;5;124m'\u001b[39m,\u001b[38;5;124m'\u001b[39m\u001b[38;5;124my\u001b[39m\u001b[38;5;124m'\u001b[39m,\u001b[38;5;124m'\u001b[39m\u001b[38;5;124mz\u001b[39m\u001b[38;5;124m'\u001b[39m]]\u001b[38;5;241m.\u001b[39mto_numpy())    \n",
      "File \u001b[1;32md:\\OneDrive - KTH\\data\\code\\MOF_build_Demo\\mof_build_demo\\makelib\\..\\MOF_build\\functions\\read.py:13\u001b[0m, in \u001b[0;36mread.pdb\u001b[1;34m(filename)\u001b[0m\n\u001b[0;32m     11\u001b[0m inputfile \u001b[38;5;241m=\u001b[39m \u001b[38;5;28mstr\u001b[39m(filename)\n\u001b[0;32m     12\u001b[0m outputfile \u001b[38;5;241m=\u001b[39m re\u001b[38;5;241m.\u001b[39msub(\u001b[38;5;124mr\u001b[39m\u001b[38;5;124m\"\u001b[39m\u001b[38;5;124m\\\u001b[39m\u001b[38;5;124m..*$\u001b[39m\u001b[38;5;124m\"\u001b[39m, \u001b[38;5;124m\"\u001b[39m\u001b[38;5;124m\"\u001b[39m, inputfile)\n\u001b[1;32m---> 13\u001b[0m \u001b[38;5;28;01mwith\u001b[39;00m \u001b[38;5;28mopen\u001b[39m(inputfile, \u001b[38;5;124m\"\u001b[39m\u001b[38;5;124mr\u001b[39m\u001b[38;5;124m\"\u001b[39m) \u001b[38;5;28;01mas\u001b[39;00m fp:\n\u001b[0;32m     14\u001b[0m     content \u001b[38;5;241m=\u001b[39m fp\u001b[38;5;241m.\u001b[39mreadlines()\n\u001b[0;32m     15\u001b[0m     linesnumber \u001b[38;5;241m=\u001b[39m \u001b[38;5;28mlen\u001b[39m(content)\n",
      "\u001b[1;31mFileNotFoundError\u001b[0m: [Errno 2] No such file or directory: 'TEMPL.pdb'"
     ]
    }
   ],
   "source": [
    "template_pdb = 'TEMPL.pdb'\n",
    "node_pdb='lib1.pdb'\n",
    "template_pdb = read.pdb(template_pdb)\n",
    "node_pdb = read.pdb(node_pdb)\n",
    "pAl1,pAl2,pAl3 = (template_pdb.loc[0, ['x','y','z']].to_numpy(),\n",
    "                template_pdb.loc[1, ['x','y','z']].to_numpy(),\n",
    "                template_pdb.loc[2, ['x','y','z']].to_numpy())    \n",
    "pAl1_1,pAl1_2,pAl1_3 =(node_pdb.loc[0, ['x','y','z']].to_numpy(),\n",
    "                        node_pdb.loc[36, ['x','y','z']].to_numpy(),\n",
    "                        node_pdb.loc[45, ['x','y','z']].to_numpy()) \n",
    "solution_1_2,arr_1_2 = find_solution(pAl1,pAl2,pAl1_1,pAl1_2,pAl1_3) #basis vector1\n",
    "solution_1_3,arr_1_3 = find_solution(pAl1,pAl3,pAl1_1,pAl1_2,pAl1_3) #basis vector2"
   ]
  },
  {
   "cell_type": "code",
   "execution_count": 6,
   "metadata": {},
   "outputs": [],
   "source": [
    "with open('lib.lib','w') as f:\n",
    "    for i in [solution_1_2,arr_1_2,solution_1_3,arr_1_3]:\n",
    "        f.write(' '.join(map(str, i.ravel().tolist()))+'\\n')"
   ]
  },
  {
   "cell_type": "code",
   "execution_count": 23,
   "metadata": {},
   "outputs": [],
   "source": [
    "import MOF_build.UIO66 as UIO66\n",
    "import numpy as np\n",
    "import pandas as pd\n",
    "'''make axis lib file'''\n",
    "def normalize_vector(v):\n",
    "        norm_v=v/np.linalg.norm(v)\n",
    "        return norm_v\n",
    "pdb = UIO66.read.pdb('CCCCCUT_copy.pdb')\n",
    "arr = pdb.loc[:,['x','y','z']].to_numpy()\n",
    "\n",
    "beginning_point = 0.5*(arr[2,:]+arr[3,:])\n",
    "v1_file = normalize_vector(0.5*arr[0,:]+0.5*arr[4,:]-beginning_point)\n",
    "v1_frame = normalize_vector(np.array([1,0,0]))\n",
    "v2_file = normalize_vector(0.5*arr[2,:]+0.5*arr[4,:]-beginning_point)\n",
    "v2_frame = np.array([ 0.5    , -0.5    ,  0.70711])\n",
    "\n",
    "new = UIO66.rotate.rotate_twice_linker(pdb,beginning_point,v1_file,v1_frame,v2_file,v2_frame)\n",
    "#new = new-0.5*(new[0,:]+new[2,:])\n",
    "\n"
   ]
  },
  {
   "cell_type": "code",
   "execution_count": 22,
   "metadata": {},
   "outputs": [
    {
     "data": {
      "text/plain": [
       "<MOF_build.UIO66.output at 0x13372e25950>"
      ]
     },
     "execution_count": 22,
     "metadata": {},
     "output_type": "execute_result"
    }
   ],
   "source": [
    "pdb[['x','y','z']]=new\n",
    "df = pd.concat([pdb.iloc[:,0:3],pdb.iloc[:,6],pdb.iloc[:,3:6]],axis=1, join = 'outer')\n",
    "df.to_csv('lib_cut.txt',header=None,sep='\\t',index=False)\n",
    "UIO66.output('lib_cut',True,False,False)\n",
    "\n"
   ]
  }
 ],
 "metadata": {
  "kernelspec": {
   "display_name": "vlx",
   "language": "python",
   "name": "python3"
  },
  "language_info": {
   "codemirror_mode": {
    "name": "ipython",
    "version": 3
   },
   "file_extension": ".py",
   "mimetype": "text/x-python",
   "name": "python",
   "nbconvert_exporter": "python",
   "pygments_lexer": "ipython3",
   "version": "3.11.6"
  }
 },
 "nbformat": 4,
 "nbformat_minor": 2
}
