{
 "cells": [
  {
   "cell_type": "code",
   "execution_count": 9,
   "metadata": {},
   "outputs": [],
   "source": [
    "import sys\n",
    "sys.path.append(\"..\")\n",
    "from MOF_build.functions.read import read\n",
    "from MOF_build.functions.output import output\n",
    "from MOF_build.functions.normv import normalize_vector\n",
    "from MOF_build.functions.rotate import rotate\n",
    "import pandas as pd\n",
    "\n",
    "def get_new_methyl_cut(cut):\n",
    "    C1 = cut.loc[2, [\"x\", \"y\", \"z\"]].to_numpy()\n",
    "    CC = normalize_vector(C1) \n",
    "    methyl=read.pdb('methyl.pdb')\n",
    "    methylH1=methyl.loc[1, [\"x\", \"y\", \"z\"]].to_numpy()\n",
    "    methylH2=methyl.loc[2, [\"x\", \"y\", \"z\"]].to_numpy()\n",
    "    methylH3=methyl.loc[3, [\"x\", \"y\", \"z\"]].to_numpy()\n",
    "    methylCH = (methylH1+methylH2+methylH3)/3 #methyl C is 0 0 0 \n",
    "    p1 = methylCH\n",
    "    p2 = C1\n",
    "    methyl_arr = methyl.loc[:, [\"x\", \"y\", \"z\"]].to_numpy()\n",
    "\n",
    "    q=rotate.calculate_q_rotation_with_vectors(p1,p2)\n",
    "\n",
    "    new_methyl=rotate.get_rotated_array(methyl_arr,q)+1.5*CC+C1 #set c-c as 1.5 A\n",
    "    df_carbo = cut.iloc[0:3,:]\n",
    "\n",
    "    methyl.loc[:, [\"x\", \"y\", \"z\"]] = new_methyl\n",
    "    df_newcut = pd.concat([df_carbo,methyl],ignore_index=True,join='outer')\n",
    "    df_newcut.loc[:,'Residue']='CUT'\n",
    "    \n",
    "    return df_newcut"
   ]
  },
  {
   "cell_type": "code",
   "execution_count": 7,
   "metadata": {},
   "outputs": [],
   "source": [
    "methyl=read.pdb('methyl.pdb')\n",
    "terms=read.pdb('forcutPCN222.pdb')\n",
    "\n",
    "#for 0-8 CO2+methyl terminations\n",
    "for i in range(8):\n",
    "    start = 3*i\n",
    "    cut=terms[start:start+3].reset_index(drop=True)\n",
    "    if i ==0:\n",
    "        init=get_new_methyl_cut(cut)\n",
    "        init.loc[:,'Res_number']= i+1\n",
    "        df_cut = init\n",
    "    else:\n",
    "        new_cut_df=get_new_methyl_cut(cut)\n",
    "        new_cut_df.loc[:,'Res_number']= i+1\n",
    "        df_cut=pd.concat([df_cut,new_cut_df],join='outer',ignore_index=True)\n"
   ]
  },
  {
   "cell_type": "code",
   "execution_count": 3,
   "metadata": {},
   "outputs": [],
   "source": [
    "'''translate and rotate cut '''\n",
    "import numpy as np\n",
    "\n",
    "array = df_cut.loc[:, ['x','y','z']].to_numpy()\n",
    "center = 0.5*(array[14]+array[28]) #center point (beginning point)\n",
    "new_node = array-center\n",
    "\n",
    "\n",
    "#PCN222\n",
    "any_tdx, any_tdy, any_tdz = (\n",
    "    np.array([1, 0, 0]),\n",
    "    np.array([0, 1, 0]),\n",
    "    np.array([0, 1, 1]))\n",
    "dx, dy, dz = np.array([1, 0, 0]), np.array([0, 1, 0]), np.array([0, 0, 1])\n",
    "carte_basis = np.vstack([dx, dy, dz])\n",
    "  \n",
    "tric_basis = rotate.coordinate_transfer(any_tdx, any_tdy, any_tdz, carte_basis)\n",
    "\n",
    "v1_file = new_node[37]-new_node[44]\n",
    "v2_file = new_node[44]-new_node[30]\n",
    "v1_frame = tric_basis[2]+tric_basis[1]\n",
    "v2_frame = tric_basis[0]\n",
    "rotated_node0 = rotate.rotate_twice_linker(df_cut,center,v1_file,v1_frame,v2_file,v2_frame)\n",
    "\n",
    "\n",
    "rotateq_z45=rotate.calculate_q_rotation_with_axis_degree(dz,np.pi/4)\n",
    "rotated_node1 = rotate.get_rotated_array(rotated_node0,rotateq_z45)\n",
    "#rotateq_x90=rotate.calculate_q_rotation_with_axis_degree(dx,np.pi)\n",
    "q=rotate.calculate_q_rotation_with_vectors((rotated_node1[15]-rotated_node1[50]),dx)\n",
    "rotated_node = rotate.get_rotated_array(rotated_node1,q)\n",
    "df_cut.loc[:, ['x','y','z']] = rotated_node\n"
   ]
  },
  {
   "cell_type": "code",
   "execution_count": 8,
   "metadata": {},
   "outputs": [
    {
     "data": {
      "text/plain": [
       "<MOF_build.functions.output.output at 0x166581910>"
      ]
     },
     "execution_count": 8,
     "metadata": {},
     "output_type": "execute_result"
    }
   ],
   "source": [
    "df_left = df_cut[[\"Atom_label\", \"Residue\", \"Res_number\", \"Note\"]]\n",
    "df_right = df_cut[[\"x\",\"y\",\"z\"]]\n",
    "df = pd.concat([df_left, df_right], axis=1, join=\"outer\")\n",
    "df.to_csv(\"newlibcut.txt\", header=None, sep=\"\\t\", index=False)\n",
    "output('newlibcut',True,False,False)"
   ]
  },
  {
   "cell_type": "code",
   "execution_count": 2,
   "metadata": {},
   "outputs": [],
   "source": [
    "import sys\n",
    "sys.path.append(\"..\")\n",
    "from MOF_build.functions.clean import clean\n",
    "clean.txt()\n",
    "clean.xyz()\n",
    "clean.gro()"
   ]
  }
 ],
 "metadata": {
  "kernelspec": {
   "display_name": "vlx",
   "language": "python",
   "name": "python3"
  },
  "language_info": {
   "codemirror_mode": {
    "name": "ipython",
    "version": 3
   },
   "file_extension": ".py",
   "mimetype": "text/x-python",
   "name": "python",
   "nbconvert_exporter": "python",
   "pygments_lexer": "ipython3",
   "version": "3.11.6"
  }
 },
 "nbformat": 4,
 "nbformat_minor": 2
}
